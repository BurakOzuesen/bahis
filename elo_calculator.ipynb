{
 "cells": [
  {
   "cell_type": "code",
   "execution_count": 102,
   "metadata": {},
   "outputs": [],
   "source": [
    "import pandas as pd\n",
    "import numpy as np"
   ]
  },
  {
   "cell_type": "code",
   "execution_count": 103,
   "metadata": {},
   "outputs": [],
   "source": [
    "s1 = pd.read_csv(\"./data/2016-2017.csv\")\n",
    "s2 = pd.read_csv(\"./data/2017-2018.csv\")\n",
    "s3 = pd.read_csv(\"./data/2018-2019.csv\")\n",
    "s4 = pd.read_csv(\"./data/2019-2020.csv\")\n",
    "s5 = pd.read_csv(\"./data/2020-2021.csv\")\n",
    "\n",
    "s1 = pd.read_csv(\"./data/T1 (1).csv\")\n",
    "s2 = pd.read_csv(\"./data/T1 (2).csv\")\n",
    "s3 = pd.read_csv(\"./data/T1 (3).csv\")\n",
    "s4 = pd.read_csv(\"./data/T1 (4).csv\")\n",
    "s5 = pd.read_csv(\"./data/T1 (5).csv\")\n",
    "\n",
    "datasets = [s1, s2, s3, s4, s5]"
   ]
  },
  {
   "cell_type": "code",
   "execution_count": 112,
   "metadata": {},
   "outputs": [],
   "source": [
    "team_dict = {team: 1000 for team_set in datasets for team in list(team_set.HomeTeam.unique())}"
   ]
  },
  {
   "cell_type": "code",
   "execution_count": 116,
   "metadata": {},
   "outputs": [],
   "source": [
    "def calculate_elo(team1, team2, result):\n",
    "\n",
    "    ratio = 24\n",
    "\n",
    "    r1 = team_dict[team1]\n",
    "    r2 = team_dict[team2]\n",
    "\n",
    "    R1 = 10 ** (r1/400)\n",
    "    R2 = 10 ** (r2/400)\n",
    "\n",
    "    E1 = R1 / (R1 + R2)\n",
    "    E2 = R2 / (R1 + R2)\n",
    "\n",
    "    if result == \"H\":\n",
    "        S1 = 1\n",
    "        S2 = 0\n",
    "    elif result == \"D\":\n",
    "        S1 = 0.5\n",
    "        S2 = 0.5\n",
    "    else:\n",
    "        S1 = 0\n",
    "        S2 = 1\n",
    "\n",
    "    new_r1 = round(r1 + ratio * (S1 - E1))\n",
    "    new_r2 = round(r2 + ratio * (S2 - E2))\n",
    "\n",
    "    team_dict[team1] = new_r1\n",
    "    team_dict[team2] = new_r2"
   ]
  },
  {
   "cell_type": "code",
   "execution_count": 117,
   "metadata": {},
   "outputs": [],
   "source": [
    "for df in datasets:\n",
    "    for index in range(len(df)):\n",
    "        home_team = df.iloc[index].HomeTeam\n",
    "        away_team = df.iloc[index].AwayTeam\n",
    "        result = df.iloc[index].FTR\n",
    "        calculate_elo(home_team, away_team, result)"
   ]
  },
  {
   "cell_type": "code",
   "execution_count": 124,
   "metadata": {},
   "outputs": [
    {
     "data": {
      "text/plain": [
       "0"
      ]
     },
     "execution_count": 124,
     "metadata": {},
     "output_type": "execute_result"
    }
   ],
   "source": [
    "round(0.51)"
   ]
  },
  {
   "cell_type": "code",
   "execution_count": 119,
   "metadata": {},
   "outputs": [
    {
     "data": {
      "text/plain": [
       "{'Trabzonspor': 1191,\n",
       " 'Fenerbahce': 1178,\n",
       " 'Besiktas': 1125,\n",
       " 'Buyuksehyr': 1115,\n",
       " 'Antalyaspor': 1094,\n",
       " 'Alanyaspor': 1091,\n",
       " 'Sivasspor': 1084,\n",
       " 'Konyaspor': 1083,\n",
       " 'Galatasaray': 1080,\n",
       " 'Karagumruk': 1076,\n",
       " 'Kasimpasa': 1054,\n",
       " 'Ad. Demirspor': 1031,\n",
       " 'Hatayspor': 1023,\n",
       " 'Giresunspor': 999,\n",
       " 'Gaziantep': 997,\n",
       " 'Kayserispor': 987,\n",
       " 'Bursaspor': 965,\n",
       " 'Erzurum BB': 951,\n",
       " 'Rizespor': 948,\n",
       " 'Osmanlispor': 935,\n",
       " 'Genclerbirligi': 927,\n",
       " 'Ankaragucu': 926,\n",
       " 'Altay': 916,\n",
       " 'Akhisar Belediyespor': 908,\n",
       " 'Goztep': 887,\n",
       " 'Denizlispor': 859,\n",
       " 'Yeni Malatyaspor': 837,\n",
       " 'Karabukspor': 733}"
      ]
     },
     "execution_count": 119,
     "metadata": {},
     "output_type": "execute_result"
    }
   ],
   "source": [
    "dict(sorted(team_dict.items(), reverse=True, key=lambda item: item[1]))"
   ]
  },
  {
   "cell_type": "code",
   "execution_count": null,
   "metadata": {},
   "outputs": [],
   "source": []
  }
 ],
 "metadata": {
  "kernelspec": {
   "display_name": "Python 3.8.5 64-bit (system)",
   "language": "python",
   "name": "python3"
  },
  "language_info": {
   "codemirror_mode": {
    "name": "ipython",
    "version": 3
   },
   "file_extension": ".py",
   "mimetype": "text/x-python",
   "name": "python",
   "nbconvert_exporter": "python",
   "pygments_lexer": "ipython3",
   "version": "3.8.5"
  },
  "orig_nbformat": 4,
  "vscode": {
   "interpreter": {
    "hash": "044d59f702acbbb0f4262c54a0b74311e0759b7c8e8cfd8ca9776d79f7211b88"
   }
  }
 },
 "nbformat": 4,
 "nbformat_minor": 2
}
